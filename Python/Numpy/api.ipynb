{
 "cells": [
  {
   "cell_type": "markdown",
   "metadata": {},
   "source": [
    "# Application Programming Interface\n",
    "- A way two softwares talk to each other\n",
    "- Pandas is a good example, pandas is not written in python\n",
    "\n",
    "## Rest API\n",
    "- API via Web\n",
    "- Client -> Resource\n",
    "- http method requests -> JSON file\n",
    "\n",
    "### URL Uniform Resource Locator\n",
    " - Scheme: *The protocol* \n",
    " http://\n",
    " - Base URL: *used to find the location*\n",
    " www.xyz.com\n",
    " - Route: *the location on the web server*\n",
    " /images/xyz.png\n",
    " "
   ]
  },
  {
   "cell_type": "markdown",
   "metadata": {},
   "source": [
    "# Request Module"
   ]
  },
  {
   "cell_type": "code",
   "execution_count": 7,
   "metadata": {},
   "outputs": [],
   "source": [
    "import requests"
   ]
  },
  {
   "cell_type": "code",
   "execution_count": 8,
   "metadata": {},
   "outputs": [],
   "source": [
    "url = \"https://www.ibm.com/\""
   ]
  },
  {
   "cell_type": "code",
   "execution_count": 9,
   "metadata": {},
   "outputs": [
    {
     "data": {
      "text/plain": [
       "200"
      ]
     },
     "execution_count": 9,
     "metadata": {},
     "output_type": "execute_result"
    }
   ],
   "source": [
    "# Using the get method\n",
    "r = requests.get(url)\n",
    "# getting the status\n",
    "r.status_code"
   ]
  },
  {
   "cell_type": "code",
   "execution_count": 12,
   "metadata": {},
   "outputs": [
    {
     "data": {
      "text/plain": [
       "'Fri, 19 Aug 2022 09:10:33 GMT'"
      ]
     },
     "execution_count": 12,
     "metadata": {},
     "output_type": "execute_result"
    }
   ],
   "source": [
    "header = r.headers\n",
    "header[\"date\"]      "
   ]
  }
 ],
 "metadata": {
  "kernelspec": {
   "display_name": "Python 3.8.10 ('ds_venv')",
   "language": "python",
   "name": "python3"
  },
  "language_info": {
   "codemirror_mode": {
    "name": "ipython",
    "version": 3
   },
   "file_extension": ".py",
   "mimetype": "text/x-python",
   "name": "python",
   "nbconvert_exporter": "python",
   "pygments_lexer": "ipython3",
   "version": "3.8.10"
  },
  "orig_nbformat": 4,
  "vscode": {
   "interpreter": {
    "hash": "5036c387c240415504bbf7eef21ee6432128aaecbd0c764fb1a96ce3aeecd755"
   }
  }
 },
 "nbformat": 4,
 "nbformat_minor": 2
}
